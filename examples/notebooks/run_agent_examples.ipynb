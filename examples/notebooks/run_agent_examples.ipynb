{
 "cells": [
  {
   "cell_type": "markdown",
   "metadata": {},
   "source": [
    "# AgentForce SDK - Run Agent Examples\n",
    "\n",
    "This notebook demonstrates how to interact with agents using the AgentForce SDK."
   ]
  },
  {
   "cell_type": "markdown",
   "metadata": {},
   "source": [
    "## Prerequisites\n",
    "\n",
    "First, let's install the AgentForce SDK:"
   ]
  },
  {
   "cell_type": "code",
   "execution_count": null,
   "metadata": {},
   "outputs": [],
   "source": [
    "# Install the latest version of AgentForce SDK\n",
    "!pip install ../dist/agentforce_sdk-0.1.4-py3-none-any.whl"
   ]
  },
  {
   "cell_type": "markdown",
   "metadata": {},
   "source": [
    "## Setup\n",
    "\n",
    "Let's set up our credentials for AgentForce:"
   ]
  },
  {
   "cell_type": "code",
   "execution_count": null,
   "metadata": {},
   "outputs": [],
   "source": [
    "import os\n",
    "from agent_sdk import Agentforce\n",
    "from agent_sdk.core.auth import BasicAuth\n",
    "\n",
    "# Replace with your Salesforce credentials\n",
    "username = \"your_username\"\n",
    "password = \"your_password\"\n",
    "\n",
    "# Initialize the AgentForce client\n",
    "auth = BasicAuth(username=username, password=password)\n",
    "agentforce = Agentforce(auth=auth)"
   ]
  },
  {
   "cell_type": "markdown",
   "metadata": {},
   "source": [
    "## Basic Agent Interaction\n",
    "\n",
    "This example shows how to have a basic conversation with an agent."
   ]
  },
  {
   "cell_type": "code",
   "execution_count": null,
   "metadata": {},
   "outputs": [],
   "source": [
    "# Replace with your agent's name\n",
    "agent_name = \"OrderManagementAgent\"\n",
    "\n",
    "# Send an initial message to the agent\n",
    "response = agentforce.send_message(\n",
    "    agent_name=agent_name,\n",
    "    user_message=\"Hi, I'm having trouble with my order number 12345.\"\n",
    ")\n",
    "\n",
    "# Print the agent's response\n",
    "print(\"Agent:\", response['agent_response'])\n",
    "\n",
    "# Store the session ID for the conversation\n",
    "session_id = response['session_id']\n",
    "print(f\"Session ID: {session_id}\")"
   ]
  },
  {
   "cell_type": "markdown",
   "metadata": {},
   "source": [
    "## Continuing a Conversation\n",
    "\n",
    "This example demonstrates how to continue a conversation with an agent using the session ID."
   ]
  },
  {
   "cell_type": "code",
   "execution_count": null,
   "metadata": {},
   "outputs": [],
   "source": [
    "# Send a follow-up message using the same session ID\n",
    "response = agentforce.send_message(\n",
    "    agent_name=agent_name,\n",
    "    user_message=\"What's the status of my order?\",\n",
    "    session_id=session_id\n",
    ")\n",
    "\n",
    "# Print the agent's response\n",
    "print(\"Agent:\", response['agent_response'])"
   ]
  },
  {
   "cell_type": "markdown",
   "metadata": {},
   "source": [
    "## Interactive Chat Interface\n",
    "\n",
    "This example creates a simple interactive chat interface for communicating with the agent."
   ]
  },
  {
   "cell_type": "code",
   "execution_count": null,
   "metadata": {},
   "outputs": [],
   "source": [
    "def chat_with_agent(agent_name):\n",
    "    print(f\"Starting chat with {agent_name}. Type 'exit' to end the conversation.\")\n",
    "    session_id = None\n",
    "    \n",
    "    while True:\n",
    "        # Get user input\n",
    "        user_message = input(\"You: \")\n",
    "        \n",
    "        # Check if user wants to exit\n",
    "        if user_message.lower() == 'exit':\n",
    "            print(\"Chat ended.\")\n",
    "            break\n",
    "            \n",
    "        # Send message to agent\n",
    "        try:\n",
    "            response = agentforce.send_message(\n",
    "                agent_name=agent_name,\n",
    "                user_message=user_message,\n",
    "                session_id=session_id\n",
    "            )\n",
    "            \n",
    "            # Update session ID if this is the first message\n",
    "            if session_id is None:\n",
    "                session_id = response['session_id']\n",
    "                \n",
    "            # Print agent's response\n",
    "            print(f\"Agent: {response['agent_response']}\")\n",
    "            \n",
    "        except Exception as e:\n",
    "            print(f\"Error: {str(e)}\")\n",
    "            \n",
    "# You can uncomment this line to run the interactive chat\n",
    "# chat_with_agent(agent_name)"
   ]
  },
  {
   "cell_type": "markdown",
   "metadata": {},
   "source": [
    "## Handling Agent Sessions\n",
    "\n",
    "This example demonstrates how to manage multiple agent sessions."
   ]
  },
  {
   "cell_type": "code",
   "execution_count": null,
   "metadata": {},
   "outputs": [],
   "source": [
    "# Start multiple sessions with different contexts\n",
    "def start_session(agent_name, initial_message):\n",
    "    response = agentforce.send_message(\n",
    "        agent_name=agent_name,\n",
    "        user_message=initial_message\n",
    "    )\n",
    "    return {\n",
    "        'session_id': response['session_id'],\n",
    "        'last_response': response['agent_response'],\n",
    "        'context': initial_message\n",
    "    }\n",
    "\n",
    "# Create two different sessions\n",
    "session1 = start_session(agent_name, \"I need to check on my reservation for tomorrow.\")\n",
    "session2 = start_session(agent_name, \"I'm having trouble with payment for my order.\")\n",
    "\n",
    "print(f\"Session 1 ID: {session1['session_id']}\")\n",
    "print(f\"Session 1 Context: {session1['context']}\")\n",
    "print(f\"Session 1 Response: {session1['last_response']}\\n\")\n",
    "\n",
    "print(f\"Session 2 ID: {session2['session_id']}\")\n",
    "print(f\"Session 2 Context: {session2['context']}\")\n",
    "print(f\"Session 2 Response: {session2['last_response']}\")"
   ]
  },
  {
   "cell_type": "markdown",
   "metadata": {},
   "source": [
    "## Advanced: Asyncronous Agent Interaction\n",
    "\n",
    "This example shows how to interact with agents asynchronously using Python's asyncio library."
   ]
  },
  {
   "cell_type": "code",
   "execution_count": null,
   "metadata": {},
   "outputs": [],
   "source": [
    "import asyncio\n",
    "import aiohttp\n",
    "\n",
    "async def send_message_async(agent_name, message, session_id=None):\n",
    "    # This is a simplified example - you would need to implement the actual async API call\n",
    "    # based on the AgentForce SDK's capabilities\n",
    "    await asyncio.sleep(1)  # Simulate network delay\n",
    "    response = agentforce.send_message(\n",
    "        agent_name=agent_name,\n",
    "        user_message=message,\n",
    "        session_id=session_id\n",
    "    )\n",
    "    return response\n",
    "\n",
    "async def process_multiple_queries():\n",
    "    # Define some queries\n",
    "    queries = [\n",
    "        \"What's the status of order 12345?\",\n",
    "        \"Can I update my shipping address?\",\n",
    "        \"I need help with a refund\"\n",
    "    ]\n",
    "    \n",
    "    # Send all queries concurrently\n",
    "    tasks = [send_message_async(agent_name, query) for query in queries]\n",
    "    responses = await asyncio.gather(*tasks)\n",
    "    \n",
    "    # Process the results\n",
    "    for i, response in enumerate(responses):\n",
    "        print(f\"Query: {queries[i]}\")\n",
    "        print(f\"Response: {response['agent_response']}\")\n",
    "        print(\"---\")\n",
    "\n",
    "# Uncomment to run the async example\n",
    "# asyncio.run(process_multiple_queries())"
   ]
  }
 ],
 "metadata": {
  "kernelspec": {
   "display_name": "Python 3",
   "language": "python",
   "name": "python3"
  },
  "language_info": {
   "codemirror_mode": {
    "name": "ipython",
    "version": 3
   },
   "file_extension": ".py",
   "mimetype": "text/x-python",
   "name": "python",
   "nbconvert_exporter": "python",
   "pygments_lexer": "ipython3",
   "version": "3.9.7"
  }
 },
 "nbformat": 4,
 "nbformat_minor": 4
}
