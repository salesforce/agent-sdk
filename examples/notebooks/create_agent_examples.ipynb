{
 "cells": [
  {
   "cell_type": "markdown",
   "metadata": {},
   "source": [
    "# AgentForce SDK - Create Agent Examples\n",
    "\n",
    "This notebook demonstrates different ways to create agents using the AgentForce SDK."
   ]
  },
  {
   "cell_type": "markdown",
   "metadata": {},
   "source": [
    "## Prerequisites\n",
    "\n",
    "First, let's install the AgentForce SDK:"
   ]
  },
  {
   "cell_type": "code",
   "execution_count": null,
   "metadata": {},
   "outputs": [],
   "source": [
    "# Install the latest version of AgentForce SDK\n",
    "!pip install ../dist/agentforce_sdk-0.1.4-py3-none-any.whl"
   ]
  },
  {
   "cell_type": "markdown",
   "metadata": {},
   "source": [
    "## Setup\n",
    "\n",
    "Let's set up our credentials for AgentForce:"
   ]
  },
  {
   "cell_type": "code",
   "execution_count": null,
   "metadata": {},
   "outputs": [],
   "source": [
    "import os\n",
    "from agent_sdk import Agentforce, AgentUtils\n",
    "from agent_sdk.models.agent import Agent\n",
    "from agent_sdk.models.topic import Topic\n",
    "from agent_sdk.models.action import Action\n",
    "from agent_sdk.models.input import Input\n",
    "from agent_sdk.models.output import Output\n",
    "from agent_sdk.models.system_message import SystemMessage\n",
    "from agent_sdk.models.variable import Variable\n",
    "from agent_sdk.core.auth import BasicAuth\n",
    "\n",
    "# Replace with your Salesforce credentials\n",
    "username = \"your_username\"\n",
    "password = \"your_password\"\n",
    "\n",
    "auth = BasicAuth(username=username, password=password)\n",
    "\n",
    "# Initialize the AgentForce client\n",
    "agentforce = Agentforce(auth=auth)"
   ]
  },
  {
   "cell_type": "markdown",
   "metadata": {},
   "source": [
    "## Method 1: Create Agent from JSON File\n",
    "\n",
    "This is the simplest way to create an agent, by using a pre-defined JSON file."
   ]
  },
  {
   "cell_type": "code",
   "execution_count": null,
   "metadata": {},
   "outputs": [],
   "source": [
    "# Path to JSON file\n",
    "json_file_path = \"../assets/input.json\"\n",
    "\n",
    "# Create the agent from JSON file\n",
    "agent = AgentUtils.create_agent_from_file(json_file_path)\n",
    "\n",
    "# View the agent configuration\n",
    "print(f\"Agent Name: {agent.name}\")\n",
    "print(f\"Description: {agent.description}\")\n",
    "print(f\"Company: {agent.company_name}\")\n",
    "print(f\"Topics: {len(agent.topics)}\")\n",
    "\n",
    "# To deploy the agent:\n",
    "# result = agentforce.create(agent)\n",
    "# print(f\"Agent created successfully\")"
   ]
  },
  {
   "cell_type": "markdown",
   "metadata": {},
   "source": [
    "## Method 2: Create Agent from Directory Structure\n",
    "\n",
    "This method uses a modular directory structure where each component is defined in a separate file."
   ]
  },
  {
   "cell_type": "code",
   "execution_count": null,
   "metadata": {},
   "outputs": [],
   "source": [
    "# Path to directory structure\n",
    "directory_path = \"../assets/chained_agent_dir\"\n",
    "agent_name = \"order_management_agent\"\n",
    "\n",
    "# Create the agent from directory structure\n",
    "agent = AgentUtils.create_agent_from_directory_structure(directory_path, agent_name)\n",
    "\n",
    "# View the agent configuration\n",
    "print(f\"Agent Name: {agent.name}\")\n",
    "print(f\"Description: {agent.description}\")\n",
    "print(f\"Topics: {len(agent.topics)}\")\n",
    "\n",
    "# Display topic information\n",
    "for i, topic in enumerate(agent.topics):\n",
    "    print(f\"\\nTopic {i+1}: {topic.name}\")\n",
    "    print(f\"Description: {topic.description}\")\n",
    "    print(f\"Actions: {len(topic.actions) if topic.actions else 0}\")\n",
    "    \n",
    "    if topic.actions:\n",
    "        for j, action in enumerate(topic.actions):\n",
    "            print(f\"  Action {j+1}: {action.name}\")\n",
    "\n",
    "# To deploy the agent:\n",
    "# result = agentforce.create(agent)\n",
    "# print(f\"Agent created successfully\")"
   ]
  },
  {
   "cell_type": "markdown",
   "metadata": {},
   "source": [
    "## Method 3: Create Agent Programmatically\n",
    "\n",
    "This method demonstrates how to create an agent by constructing it programmatically with objects."
   ]
  },
  {
   "cell_type": "code",
   "execution_count": null,
   "metadata": {},
   "outputs": [],
   "source": [
    "# Create an action with inputs and outputs\n",
    "action = Action(\n",
    "    name=\"findOrder\",\n",
    "    description=\"Find order details using an order ID\",\n",
    "    inputs=[\n",
    "        Input(\n",
    "            name=\"orderID\",\n",
    "            description=\"Order identification number\",\n",
    "            data_type=\"string\"\n",
    "        )\n",
    "    ],\n",
    "    outputs=[\n",
    "        Output(\n",
    "            name=\"orderDetails\",\n",
    "            description=\"Details of the order\",\n",
    "            data_type=\"object\"\n",
    "        )\n",
    "    ]\n",
    ")\n",
    "\n",
    "# Create a topic with the action\n",
    "topic = Topic(\n",
    "    name=\"Order Management\",\n",
    "    description=\"Handles all user requests related to finding and managing orders\",\n",
    "    scope=\"public\",\n",
    "    instructions=[\n",
    "        \"If a user cannot find their order, attempt to locate it using the order ID\",\n",
    "        \"If a user wants to check the status of their order, retrieve the order details\"\n",
    "    ],\n",
    "    actions=[action]\n",
    ")\n",
    "\n",
    "# Create the agent with the topic\n",
    "agent = Agent(\n",
    "    name=\"ProgrammaticAgent\",\n",
    "    description=\"An agent created programmatically for order management\",\n",
    "    agent_type=\"External\",\n",
    "    agent_template_type=\"EinsteinServiceAgent\",\n",
    "    company_name=\"Example Corp\",\n",
    "    sample_utterances=[\n",
    "        \"What's the status of my order?\",\n",
    "        \"I need to find my order\"\n",
    "    ],\n",
    "    system_messages=[\n",
    "        SystemMessage(message=\"Welcome to Order Management!\", msg_type=\"welcome\"),\n",
    "        SystemMessage(message=\"I'm sorry, I encountered an error.\", msg_type=\"error\")\n",
    "    ],\n",
    "    variables=[\n",
    "        Variable(name=\"apiKey\", data_type=\"string\", default_value=\"sample-key\")\n",
    "    ],\n",
    "    topics=[topic]\n",
    ")\n",
    "\n",
    "# View the agent configuration\n",
    "print(f\"Agent Name: {agent.name}\")\n",
    "print(f\"Description: {agent.description}\")\n",
    "print(f\"Topics: {len(agent.topics)}\")\n",
    "\n",
    "# To deploy the agent:\n",
    "# result = agentforce.create(agent)\n",
    "# print(f\"Agent created successfully\")"
   ]
  },
  {
   "cell_type": "markdown",
   "metadata": {},
   "source": [
    "## Method 4: Create & Export Agent Directory Structure\n",
    "\n",
    "This method demonstrates how to create an agent programmatically and then export it to a directory structure."
   ]
  },
  {
   "cell_type": "code",
   "execution_count": null,
   "metadata": {},
   "outputs": [],
   "source": [
    "# We'll use the same agent we created programmatically above\n",
    "export_dir = \"./exported_agent\"\n",
    "\n",
    "# Create the directory structure\n",
    "AgentUtils.create_agent_directory_structure(export_dir, agent)\n",
    "\n",
    "print(f\"Agent exported to directory: {export_dir}\")\n",
    "\n",
    "# You can then read it back\n",
    "# reimported_agent = AgentUtils.create_agent_from_directory_structure(export_dir, \"ProgrammaticAgent\")\n",
    "# print(f\"Re-imported agent name: {reimported_agent.name}\")"
   ]
  }
 ],
 "metadata": {
  "kernelspec": {
   "display_name": "Python 3",
   "language": "python",
   "name": "python3"
  },
  "language_info": {
   "codemirror_mode": {
    "name": "ipython",
    "version": 3
   },
   "file_extension": ".py",
   "mimetype": "text/x-python",
   "name": "python",
   "nbconvert_exporter": "python",
   "pygments_lexer": "ipython3",
   "version": "3.9.7"
  }
 },
 "nbformat": 4,
 "nbformat_minor": 4
}
